{
 "cells": [
  {
   "cell_type": "code",
   "execution_count": 19,
   "metadata": {
    "tags": []
   },
   "outputs": [
    {
     "name": "stdout",
     "output_type": "stream",
     "text": [
      "[(0, -270305), (0, -668975), (0, -366883), (0, -99220), (0, 598067), (0, -993116), (0, -580702), (0, 214792), (0, -71225), (0, 863254)]\n"
     ]
    }
   ],
   "source": [
    "import random\n",
    "s = set()\n",
    "n = 10\n",
    "while len(s) < n:\n",
    "    s.add((0,random.randint(-1000000,1000000)))\n",
    "print(list(s))\n"
   ]
  }
 ],
 "metadata": {
  "kernelspec": {
   "display_name": "Python 3 (ipykernel)",
   "language": "python",
   "name": "python3"
  },
  "language_info": {
   "codemirror_mode": {
    "name": "ipython",
    "version": 3
   },
   "file_extension": ".py",
   "mimetype": "text/x-python",
   "name": "python",
   "nbconvert_exporter": "python",
   "pygments_lexer": "ipython3",
   "version": "3.9.17"
  }
 },
 "nbformat": 4,
 "nbformat_minor": 4
}
